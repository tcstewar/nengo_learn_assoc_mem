{
 "cells": [
  {
   "cell_type": "code",
   "execution_count": 1,
   "metadata": {
    "collapsed": true
   },
   "outputs": [],
   "source": [
    "%matplotlib inline\n",
    "import pylab\n",
    "import numpy as np\n",
    "import nengo\n",
    "import nengo_spa as spa\n"
   ]
  },
  {
   "cell_type": "code",
   "execution_count": 13,
   "metadata": {
    "collapsed": true
   },
   "outputs": [],
   "source": [
    "n_items = 25\n",
    "\n",
    "fan1 = []\n",
    "for i in range(int(n_items/5)):\n",
    "    fan1.append(('F1_%d' % (2*i), 'F1_%d'% (2*i+1)))\n",
    "fan2 = []\n",
    "for i in range(int(n_items/5)):\n",
    "    fan2.append(('F2_%d' % (4*i), 'F2_%d'% (4*i+1)))\n",
    "    fan2.append(('F2_%d' % (4*i), 'F2_%d'% (4*i+2)))\n",
    "    fan2.append(('F2_%d' % (4*i+3), 'F2_%d'% (4*i+2)))\n",
    "    fan2.append(('F2_%d' % (4*i+3), 'F2_%d'% (4*i+1)))\n",
    "pairs = fan1+fan2    \n",
    "    \n",
    "D = 512\n",
    "vocab = spa.Vocabulary(D)\n",
    "items = set()\n",
    "for i1, i2 in fan1+fan2:\n",
    "    items.add(i1)\n",
    "    items.add(i2)\n",
    "for item in items:\n",
    "    vocab.populate(item)\n"
   ]
  },
  {
   "cell_type": "code",
   "execution_count": 49,
   "metadata": {
    "collapsed": true
   },
   "outputs": [],
   "source": [
    "seed = 1\n",
    "rng = np.random.RandomState(seed=seed)\n",
    "noise_sd = 1.0\n",
    "eval_points = []\n",
    "target = []\n",
    "n_samples = 50000\n",
    "for i in range(n_samples):\n",
    "    pair = pairs[rng.randint(len(pairs))]\n",
    "    pt = vocab.parse('%s + %s' % (pair[0], pair[1])).v\n",
    "    target.append(pt)\n",
    "    eval_points.append(pt+rng.normal(size=pt.shape)*noise_sd)\n"
   ]
  },
  {
   "cell_type": "code",
   "execution_count": 50,
   "metadata": {
    "collapsed": true
   },
   "outputs": [],
   "source": [
    "n_cue = 1000\n",
    "n_result = 100\n",
    "model = nengo.Network()\n",
    "with model:\n",
    "    cue = nengo.Ensemble(n_neurons=n_cue, dimensions=D)\n",
    "    result = nengo.Ensemble(n_neurons=n_result, dimensions=D)\n",
    "    \n",
    "    c = nengo.Connection(cue, result, eval_points=eval_points, function=target)\n",
    "    "
   ]
  },
  {
   "cell_type": "code",
   "execution_count": 51,
   "metadata": {},
   "outputs": [
    {
     "name": "stdout",
     "output_type": "stream",
     "text": [
      "\r",
      "Building finished in 0:00:06.                                                   \r\n"
     ]
    }
   ],
   "source": [
    "sim = nengo.Simulator(model)\n",
    "dec = sim.data[c].weights.T"
   ]
  },
  {
   "cell_type": "code",
   "execution_count": 52,
   "metadata": {},
   "outputs": [
    {
     "name": "stdout",
     "output_type": "stream",
     "text": [
      "[0.30547096461100909, 0.19562748409170078, 0.16342564428698803, 0.2383384567702744, 0.19239606412664889]\n",
      "0.219051722777\n"
     ]
    }
   ],
   "source": [
    "fan1_values = []\n",
    "for pair in fan1:\n",
    "    pt = vocab.parse('%s + %s' % (pair[0], pair[1])).v\n",
    "    fan1_values.append(pt)\n",
    "fan1_values = np.array(fan1_values)\n",
    "_, activity = nengo.utils.ensemble.tuning_curves(cue, sim, inputs=fan1_values)\n",
    "result = np.dot(activity, dec)\n",
    "score = []\n",
    "for i in range(5):\n",
    "    s = np.dot(fan1_values[i], result[i])\n",
    "    score.append(s)\n",
    "print(score)\n",
    "print(np.mean(score))"
   ]
  },
  {
   "cell_type": "code",
   "execution_count": 53,
   "metadata": {},
   "outputs": [
    {
     "name": "stdout",
     "output_type": "stream",
     "text": [
      "[0.38270831029767927, 0.35170639756899064, 0.319083301977727, 0.34477819287286271, 0.43021720107332162, 0.38633115515495331, 0.42102717852486737, 0.4247447136611352, 0.21737620466452381, 0.28317256618336917, 0.31092296409955367, 0.25621396643438477, 0.40125536794937999, 0.354453653589128, 0.28937346436592132, 0.28629194398535829, 0.26706276866821255, 0.19258982114537121, 0.36568464110828264, 0.39109764259740443]\n",
      "0.333804572796\n"
     ]
    }
   ],
   "source": [
    "fan2_values = []\n",
    "for pair in fan2:\n",
    "    pt = vocab.parse('%s + %s' % (pair[0], pair[1])).v\n",
    "    fan2_values.append(pt)\n",
    "fan2_values = np.array(fan2_values)\n",
    "_, activity = nengo.utils.ensemble.tuning_curves(cue, sim, inputs=fan2_values)\n",
    "result = np.dot(activity, dec)\n",
    "score = []\n",
    "for i in range(5*4):\n",
    "    s = np.dot(fan2_values[i], result[i])\n",
    "    score.append(s)\n",
    "print(score)\n",
    "print(np.mean(score))"
   ]
  },
  {
   "cell_type": "code",
   "execution_count": null,
   "metadata": {
    "collapsed": true
   },
   "outputs": [],
   "source": []
  }
 ],
 "metadata": {
  "kernelspec": {
   "display_name": "Python 3",
   "language": "python",
   "name": "python3"
  },
  "language_info": {
   "codemirror_mode": {
    "name": "ipython",
    "version": 3
   },
   "file_extension": ".py",
   "mimetype": "text/x-python",
   "name": "python",
   "nbconvert_exporter": "python",
   "pygments_lexer": "ipython3",
   "version": "3.6.1"
  }
 },
 "nbformat": 4,
 "nbformat_minor": 2
}
